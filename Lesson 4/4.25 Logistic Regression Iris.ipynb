{
 "cells": [
  {
   "cell_type": "code",
   "execution_count": 2,
   "id": "98b9d17f",
   "metadata": {},
   "outputs": [],
   "source": [
    "# Objective:\n",
    "# • Import the Iris dataset using sklearn.\n",
    "# • Use logistic regression to predict the class of the Iris plant."
   ]
  },
  {
   "cell_type": "code",
   "execution_count": 3,
   "id": "7da87dbe",
   "metadata": {},
   "outputs": [],
   "source": [
    "# Steps:-\n",
    "# 1. import the dataset\n",
    "# 2. convert it\n",
    "# 3. data preprocessing-> 1) data exploration 2) data wrangling\n",
    "# 4. initialize our model\n",
    "# 5. train the model\n",
    "# 6. make prediction\n",
    "# 7. accuracy metrics-> 1) Confusion matrix 2) accuracy score"
   ]
  },
  {
   "cell_type": "code",
   "execution_count": 15,
   "id": "931ef84e",
   "metadata": {},
   "outputs": [],
   "source": [
    "# 1. import the dataset\n",
    "import pandas as pd\n",
    "import numpy as np\n",
    "import matplotlib.pyplot as plt\n",
    "\n",
    "from sklearn.datasets import load_iris\n",
    "iris_ds = load_iris()\n",
    "\n",
    "from sklearn.metrics import accuracy_score, confusion_matrix, classification_report"
   ]
  },
  {
   "cell_type": "code",
   "execution_count": 5,
   "id": "84743ea3",
   "metadata": {},
   "outputs": [
    {
     "data": {
      "text/plain": [
       "dict_keys(['data', 'target', 'frame', 'target_names', 'DESCR', 'feature_names', 'filename'])"
      ]
     },
     "execution_count": 5,
     "metadata": {},
     "output_type": "execute_result"
    }
   ],
   "source": [
    "iris_ds.keys()"
   ]
  },
  {
   "cell_type": "code",
   "execution_count": 6,
   "id": "e663e2a7",
   "metadata": {},
   "outputs": [
    {
     "name": "stdout",
     "output_type": "stream",
     "text": [
      "   sepal length (cm)  sepal width (cm)  petal length (cm)  petal width (cm)\n",
      "0                5.1               3.5                1.4               0.2\n",
      "1                4.9               3.0                1.4               0.2\n",
      "2                4.7               3.2                1.3               0.2\n",
      "3                4.6               3.1                1.5               0.2\n",
      "4                5.0               3.6                1.4               0.2\n",
      "   0\n",
      "0  0\n",
      "1  0\n",
      "2  0\n",
      "3  0\n",
      "4  0\n"
     ]
    }
   ],
   "source": [
    "# 2. convert the dataset to df\n",
    "df_x = pd.DataFrame(iris_ds['data'], columns = iris_ds['feature_names'])\n",
    "df_y = pd.DataFrame(iris_ds['target'])\n",
    "print(df_x.head())\n",
    "print(df_y.head())"
   ]
  },
  {
   "cell_type": "code",
   "execution_count": 7,
   "id": "9d0b0d20",
   "metadata": {},
   "outputs": [
    {
     "name": "stdout",
     "output_type": "stream",
     "text": [
      "       sepal length (cm)  sepal width (cm)  petal length (cm)  \\\n",
      "count         150.000000        150.000000         150.000000   \n",
      "mean            5.843333          3.057333           3.758000   \n",
      "std             0.828066          0.435866           1.765298   \n",
      "min             4.300000          2.000000           1.000000   \n",
      "25%             5.100000          2.800000           1.600000   \n",
      "50%             5.800000          3.000000           4.350000   \n",
      "75%             6.400000          3.300000           5.100000   \n",
      "max             7.900000          4.400000           6.900000   \n",
      "\n",
      "       petal width (cm)  \n",
      "count        150.000000  \n",
      "mean           1.199333  \n",
      "std            0.762238  \n",
      "min            0.100000  \n",
      "25%            0.300000  \n",
      "50%            1.300000  \n",
      "75%            1.800000  \n",
      "max            2.500000  \n",
      "\n",
      "                0\n",
      "count  150.000000\n",
      "mean     1.000000\n",
      "std      0.819232\n",
      "min      0.000000\n",
      "25%      0.000000\n",
      "50%      1.000000\n",
      "75%      2.000000\n",
      "max      2.000000\n"
     ]
    }
   ],
   "source": [
    "# 3. data preprocessing\n",
    "# data exploration\n",
    "print(df_x.describe())\n",
    "print()\n",
    "print(df_y.describe())"
   ]
  },
  {
   "cell_type": "code",
   "execution_count": 8,
   "id": "b8b490e3",
   "metadata": {},
   "outputs": [
    {
     "name": "stdout",
     "output_type": "stream",
     "text": [
      "sepal length (cm)    False\n",
      "sepal width (cm)     False\n",
      "petal length (cm)    False\n",
      "petal width (cm)     False\n",
      "dtype: bool\n",
      "\n",
      "0    False\n",
      "dtype: bool\n"
     ]
    },
    {
     "data": {
      "text/plain": [
       "{'whiskers': [<matplotlib.lines.Line2D at 0x7f2502272190>,\n",
       "  <matplotlib.lines.Line2D at 0x7f2502272520>,\n",
       "  <matplotlib.lines.Line2D at 0x7f250227caf0>,\n",
       "  <matplotlib.lines.Line2D at 0x7f250227ce80>,\n",
       "  <matplotlib.lines.Line2D at 0x7f2502294460>,\n",
       "  <matplotlib.lines.Line2D at 0x7f25022947f0>,\n",
       "  <matplotlib.lines.Line2D at 0x7f25022a1d90>,\n",
       "  <matplotlib.lines.Line2D at 0x7f250222c160>],\n",
       " 'caps': [<matplotlib.lines.Line2D at 0x7f25022728b0>,\n",
       "  <matplotlib.lines.Line2D at 0x7f2502272c40>,\n",
       "  <matplotlib.lines.Line2D at 0x7f2502287250>,\n",
       "  <matplotlib.lines.Line2D at 0x7f25022875e0>,\n",
       "  <matplotlib.lines.Line2D at 0x7f2502294b80>,\n",
       "  <matplotlib.lines.Line2D at 0x7f2502294f10>,\n",
       "  <matplotlib.lines.Line2D at 0x7f250222c4f0>,\n",
       "  <matplotlib.lines.Line2D at 0x7f250222c880>],\n",
       " 'boxes': [<matplotlib.lines.Line2D at 0x7f2502a6ddc0>,\n",
       "  <matplotlib.lines.Line2D at 0x7f250227c760>,\n",
       "  <matplotlib.lines.Line2D at 0x7f25022940d0>,\n",
       "  <matplotlib.lines.Line2D at 0x7f25022a1a00>],\n",
       " 'medians': [<matplotlib.lines.Line2D at 0x7f2502272fd0>,\n",
       "  <matplotlib.lines.Line2D at 0x7f2502287970>,\n",
       "  <matplotlib.lines.Line2D at 0x7f25022a12e0>,\n",
       "  <matplotlib.lines.Line2D at 0x7f250222cc10>],\n",
       " 'fliers': [<matplotlib.lines.Line2D at 0x7f250227c3a0>,\n",
       "  <matplotlib.lines.Line2D at 0x7f2502287d00>,\n",
       "  <matplotlib.lines.Line2D at 0x7f25022a1670>,\n",
       "  <matplotlib.lines.Line2D at 0x7f250222cfa0>],\n",
       " 'means': []}"
      ]
     },
     "execution_count": 8,
     "metadata": {},
     "output_type": "execute_result"
    },
    {
     "data": {
      "image/png": "[encoded data removed]",
      "text/plain": [
       "<Figure size 432x288 with 1 Axes>"
      ]
     },
     "metadata": {
      "needs_background": "light"
     },
     "output_type": "display_data"
    }
   ],
   "source": [
    "# data wrangling\n",
    "print(df_x.isna().any())\n",
    "print()\n",
    "print(df_y.isna().any())\n",
    "\n",
    "#no missing values!\n",
    "\n",
    "#looking for any outliers\n",
    "plt.boxplot(df_x)"
   ]
  },
  {
   "cell_type": "code",
   "execution_count": 9,
   "id": "bf9b0937",
   "metadata": {},
   "outputs": [],
   "source": [
    "# 4. initialize our model\n",
    "from sklearn.linear_model import LogisticRegression\n",
    "model = LogisticRegression()"
   ]
  },
  {
   "cell_type": "code",
   "execution_count": 10,
   "id": "a5e8f40b",
   "metadata": {},
   "outputs": [
    {
     "name": "stdout",
     "output_type": "stream",
     "text": [
      "(120, 4)\n",
      "(30, 4)\n",
      "(120, 1)\n",
      "(30, 1)\n",
      "\n"
     ]
    },
    {
     "name": "stderr",
     "output_type": "stream",
     "text": [
      "/home/mypc/anaconda3/lib/python3.9/site-packages/sklearn/utils/validation.py:63: DataConversionWarning: A column-vector y was passed when a 1d array was expected. Please change the shape of y to (n_samples, ), for example using ravel().\n",
      "  return f(*args, **kwargs)\n"
     ]
    },
    {
     "data": {
      "text/plain": [
       "LogisticRegression()"
      ]
     },
     "execution_count": 10,
     "metadata": {},
     "output_type": "execute_result"
    }
   ],
   "source": [
    "# 5. train the model\n",
    "# split the data\n",
    "from sklearn.model_selection import train_test_split\n",
    "x_train, x_test, y_train, y_test = train_test_split(df_x, df_y, test_size = 0.2)\n",
    "print(x_train.shape)\n",
    "print(x_test.shape)\n",
    "print(y_train.shape)\n",
    "print(y_test.shape)\n",
    "print()\n",
    "\n",
    "#train model\n",
    "model.fit(x_train, y_train)"
   ]
  },
  {
   "cell_type": "code",
   "execution_count": 11,
   "id": "a4374de2",
   "metadata": {},
   "outputs": [],
   "source": [
    "# 6. make prediction\n",
    "y_pred = model.predict(x_test)"
   ]
  },
  {
   "cell_type": "code",
   "execution_count": 12,
   "id": "e5391b6d",
   "metadata": {},
   "outputs": [
    {
     "data": {
      "text/plain": [
       "array([[ 9,  0,  0],\n",
       "       [ 0, 10,  1],\n",
       "       [ 0,  0, 10]])"
      ]
     },
     "execution_count": 12,
     "metadata": {},
     "output_type": "execute_result"
    }
   ],
   "source": [
    "# 7. accuracy metrics-> 1) Confusion matrix 2) accuracy score\n",
    "# 1. Confusion matrix\n",
    "confusion_matrix(y_test, y_pred)"
   ]
  },
  {
   "cell_type": "code",
   "execution_count": 13,
   "id": "5149a718",
   "metadata": {},
   "outputs": [
    {
     "data": {
      "text/plain": [
       "0.9666666666666667"
      ]
     },
     "execution_count": 13,
     "metadata": {},
     "output_type": "execute_result"
    }
   ],
   "source": [
    "# 2. accuracy score\n",
    "accuracy_score(y_test, y_pred)"
   ]
  },
  {
   "cell_type": "code",
   "execution_count": 17,
   "id": "e4f77a3f",
   "metadata": {},
   "outputs": [
    {
     "name": "stdout",
     "output_type": "stream",
     "text": [
      "              precision    recall  f1-score   support\n",
      "\n",
      "           0       1.00      1.00      1.00         9\n",
      "           1       1.00      0.91      0.95        11\n",
      "           2       0.91      1.00      0.95        10\n",
      "\n",
      "    accuracy                           0.97        30\n",
      "   macro avg       0.97      0.97      0.97        30\n",
      "weighted avg       0.97      0.97      0.97        30\n",
      "\n"
     ]
    }
   ],
   "source": [
    "print(classification_report(y_test, y_pred))"
   ]
  },
  {
   "cell_type": "code",
   "execution_count": 23,
   "id": "8804962c",
   "metadata": {},
   "outputs": [
    {
     "data": {
      "text/html": [
       "<div>\n",
       "<style scoped>\n",
       "    .dataframe tbody tr th:only-of-type {\n",
       "        vertical-align: middle;\n",
       "    }\n",
       "\n",
       "    .dataframe tbody tr th {\n",
       "        vertical-align: top;\n",
       "    }\n",
       "\n",
       "    .dataframe thead th {\n",
       "        text-align: right;\n",
       "    }\n",
       "</style>\n",
       "<table border=\"1\" class=\"dataframe\">\n",
       "  <thead>\n",
       "    <tr style=\"text-align: right;\">\n",
       "      <th></th>\n",
       "      <th>0</th>\n",
       "    </tr>\n",
       "  </thead>\n",
       "  <tbody>\n",
       "    <tr>\n",
       "      <th>111</th>\n",
       "      <td>2</td>\n",
       "    </tr>\n",
       "    <tr>\n",
       "      <th>22</th>\n",
       "      <td>0</td>\n",
       "    </tr>\n",
       "    <tr>\n",
       "      <th>130</th>\n",
       "      <td>2</td>\n",
       "    </tr>\n",
       "    <tr>\n",
       "      <th>3</th>\n",
       "      <td>0</td>\n",
       "    </tr>\n",
       "    <tr>\n",
       "      <th>94</th>\n",
       "      <td>1</td>\n",
       "    </tr>\n",
       "  </tbody>\n",
       "</table>\n",
       "</div>"
      ],
      "text/plain": [
       "     0\n",
       "111  2\n",
       "22   0\n",
       "130  2\n",
       "3    0\n",
       "94   1"
      ]
     },
     "execution_count": 23,
     "metadata": {},
     "output_type": "execute_result"
    }
   ],
   "source": [
    "y_test.head()"
   ]
  },
  {
   "cell_type": "code",
   "execution_count": 21,
   "id": "9c3aefa4",
   "metadata": {},
   "outputs": [
    {
     "data": {
      "text/plain": [
       "array([2, 0, 2, 0, 1, 1, 2, 0, 2, 0, 1, 0, 0, 0, 0, 1, 1, 2, 2, 2, 1, 2,\n",
       "       1, 1, 1, 2, 1, 2, 0, 2])"
      ]
     },
     "execution_count": 21,
     "metadata": {},
     "output_type": "execute_result"
    }
   ],
   "source": [
    "y_pred"
   ]
  }
 ],
 "metadata": {
  "kernelspec": {
   "display_name": "Python 3 (ipykernel)",
   "language": "python",
   "name": "python3"
  },
  "language_info": {
   "codemirror_mode": {
    "name": "ipython",
    "version": 3
   },
   "file_extension": ".py",
   "mimetype": "text/x-python",
   "name": "python",
   "nbconvert_exporter": "python",
   "pygments_lexer": "ipython3",
   "version": "3.9.7"
  }
 },
 "nbformat": 4,
 "nbformat_minor": 5
}
