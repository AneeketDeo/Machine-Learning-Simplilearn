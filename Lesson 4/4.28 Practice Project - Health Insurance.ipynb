{
 "cells": [
  {
   "cell_type": "code",
   "execution_count": 20,
   "id": "624e4a42",
   "metadata": {},
   "outputs": [],
   "source": [
    "# Objective:\n",
    "\n",
    "# Determine the factors that contribute the most in the calculation of insurance costs.\n",
    "# Predict the health Insurance Cost.\n",
    "\n",
    "# Actions to Perform:\n",
    "# 1. Find the correlation of every pair of features (and the outcome variable).\n",
    "# 2. Visualize the correlations using a heatmap.\n",
    "# 3. Normalize your inputs.\n",
    "# 4. Use the test data to find out the accuracy of the model.\n",
    "# 5. Visualize how your model uses the different features and which features have a greater effect."
   ]
  },
  {
   "cell_type": "code",
   "execution_count": null,
   "id": "a39ce4fc",
   "metadata": {},
   "outputs": [],
   "source": [
    "# We need to use Logistic Regression as we need to determine whether the individual will get the insurance claim"
   ]
  },
  {
   "cell_type": "code",
   "execution_count": 22,
   "id": "727841e7",
   "metadata": {},
   "outputs": [],
   "source": [
    "# all the imports\n",
    "import pandas as pd\n",
    "import numpy as np\n",
    "import matplotlib.pyplot as plt\n",
    "import seaborn as sns\n",
    "\n",
    "from sklearn.model_selection import train_test_split\n",
    "\n",
    "from sklearn.linear_model import LogisticRegression\n",
    "\n",
    "from sklearn.metrics import accuracy_score, classification_report"
   ]
  },
  {
   "cell_type": "code",
   "execution_count": 3,
   "id": "ec81dc6f",
   "metadata": {},
   "outputs": [
    {
     "data": {
      "text/html": [
       "<div>\n",
       "<style scoped>\n",
       "    .dataframe tbody tr th:only-of-type {\n",
       "        vertical-align: middle;\n",
       "    }\n",
       "\n",
       "    .dataframe tbody tr th {\n",
       "        vertical-align: top;\n",
       "    }\n",
       "\n",
       "    .dataframe thead th {\n",
       "        text-align: right;\n",
       "    }\n",
       "</style>\n",
       "<table border=\"1\" class=\"dataframe\">\n",
       "  <thead>\n",
       "    <tr style=\"text-align: right;\">\n",
       "      <th></th>\n",
       "      <th>age</th>\n",
       "      <th>sex</th>\n",
       "      <th>bmi</th>\n",
       "      <th>children</th>\n",
       "      <th>smoker</th>\n",
       "      <th>region</th>\n",
       "      <th>charges</th>\n",
       "      <th>insuranceclaim</th>\n",
       "    </tr>\n",
       "  </thead>\n",
       "  <tbody>\n",
       "    <tr>\n",
       "      <th>0</th>\n",
       "      <td>19</td>\n",
       "      <td>0</td>\n",
       "      <td>27.900</td>\n",
       "      <td>0</td>\n",
       "      <td>1</td>\n",
       "      <td>3</td>\n",
       "      <td>16884.92400</td>\n",
       "      <td>1</td>\n",
       "    </tr>\n",
       "    <tr>\n",
       "      <th>1</th>\n",
       "      <td>18</td>\n",
       "      <td>1</td>\n",
       "      <td>33.770</td>\n",
       "      <td>1</td>\n",
       "      <td>0</td>\n",
       "      <td>2</td>\n",
       "      <td>1725.55230</td>\n",
       "      <td>1</td>\n",
       "    </tr>\n",
       "    <tr>\n",
       "      <th>2</th>\n",
       "      <td>28</td>\n",
       "      <td>1</td>\n",
       "      <td>33.000</td>\n",
       "      <td>3</td>\n",
       "      <td>0</td>\n",
       "      <td>2</td>\n",
       "      <td>4449.46200</td>\n",
       "      <td>0</td>\n",
       "    </tr>\n",
       "    <tr>\n",
       "      <th>3</th>\n",
       "      <td>33</td>\n",
       "      <td>1</td>\n",
       "      <td>22.705</td>\n",
       "      <td>0</td>\n",
       "      <td>0</td>\n",
       "      <td>1</td>\n",
       "      <td>21984.47061</td>\n",
       "      <td>0</td>\n",
       "    </tr>\n",
       "    <tr>\n",
       "      <th>4</th>\n",
       "      <td>32</td>\n",
       "      <td>1</td>\n",
       "      <td>28.880</td>\n",
       "      <td>0</td>\n",
       "      <td>0</td>\n",
       "      <td>1</td>\n",
       "      <td>3866.85520</td>\n",
       "      <td>1</td>\n",
       "    </tr>\n",
       "  </tbody>\n",
       "</table>\n",
       "</div>"
      ],
      "text/plain": [
       "   age  sex     bmi  children  smoker  region      charges  insuranceclaim\n",
       "0   19    0  27.900         0       1       3  16884.92400               1\n",
       "1   18    1  33.770         1       0       2   1725.55230               1\n",
       "2   28    1  33.000         3       0       2   4449.46200               0\n",
       "3   33    1  22.705         0       0       1  21984.47061               0\n",
       "4   32    1  28.880         0       0       1   3866.85520               1"
      ]
     },
     "execution_count": 3,
     "metadata": {},
     "output_type": "execute_result"
    }
   ],
   "source": [
    "#import dataset\n",
    "dataset = pd.read_csv('insurance2.csv')\n",
    "dataset.head()"
   ]
  },
  {
   "cell_type": "code",
   "execution_count": 5,
   "id": "029fcefd",
   "metadata": {},
   "outputs": [
    {
     "data": {
      "text/plain": [
       "age               False\n",
       "sex               False\n",
       "bmi               False\n",
       "children          False\n",
       "smoker            False\n",
       "region            False\n",
       "charges           False\n",
       "insuranceclaim    False\n",
       "dtype: bool"
      ]
     },
     "execution_count": 5,
     "metadata": {},
     "output_type": "execute_result"
    }
   ],
   "source": [
    "#data wrangling\n",
    "#missing values\n",
    "dataset.isna().any()\n",
    "\n",
    "# no missing values!"
   ]
  },
  {
   "cell_type": "code",
   "execution_count": 18,
   "id": "734cdc60",
   "metadata": {},
   "outputs": [
    {
     "data": {
      "text/plain": [
       "{'whiskers': [<matplotlib.lines.Line2D at 0x7f5711107b50>,\n",
       "  <matplotlib.lines.Line2D at 0x7f5711107ee0>,\n",
       "  <matplotlib.lines.Line2D at 0x7f57110a34c0>,\n",
       "  <matplotlib.lines.Line2D at 0x7f57110a3850>,\n",
       "  <matplotlib.lines.Line2D at 0x7f57110addf0>,\n",
       "  <matplotlib.lines.Line2D at 0x7f57110bb1c0>,\n",
       "  <matplotlib.lines.Line2D at 0x7f57110c6760>,\n",
       "  <matplotlib.lines.Line2D at 0x7f57110c6af0>,\n",
       "  <matplotlib.lines.Line2D at 0x7f571105c0d0>,\n",
       "  <matplotlib.lines.Line2D at 0x7f571105c460>,\n",
       "  <matplotlib.lines.Line2D at 0x7f571106aa00>,\n",
       "  <matplotlib.lines.Line2D at 0x7f571106ad90>,\n",
       "  <matplotlib.lines.Line2D at 0x7f5711080370>,\n",
       "  <matplotlib.lines.Line2D at 0x7f5711080700>,\n",
       "  <matplotlib.lines.Line2D at 0x7f571108cca0>,\n",
       "  <matplotlib.lines.Line2D at 0x7f5711018070>],\n",
       " 'caps': [<matplotlib.lines.Line2D at 0x7f57110972b0>,\n",
       "  <matplotlib.lines.Line2D at 0x7f5711097640>,\n",
       "  <matplotlib.lines.Line2D at 0x7f57110a3be0>,\n",
       "  <matplotlib.lines.Line2D at 0x7f57110a3f70>,\n",
       "  <matplotlib.lines.Line2D at 0x7f57110bb550>,\n",
       "  <matplotlib.lines.Line2D at 0x7f57110bb8e0>,\n",
       "  <matplotlib.lines.Line2D at 0x7f57110c6e80>,\n",
       "  <matplotlib.lines.Line2D at 0x7f57110d1250>,\n",
       "  <matplotlib.lines.Line2D at 0x7f571105c7f0>,\n",
       "  <matplotlib.lines.Line2D at 0x7f571105cb80>,\n",
       "  <matplotlib.lines.Line2D at 0x7f5711076160>,\n",
       "  <matplotlib.lines.Line2D at 0x7f57110764f0>,\n",
       "  <matplotlib.lines.Line2D at 0x7f5711080a90>,\n",
       "  <matplotlib.lines.Line2D at 0x7f5711080e20>,\n",
       "  <matplotlib.lines.Line2D at 0x7f5711018400>,\n",
       "  <matplotlib.lines.Line2D at 0x7f5711018790>],\n",
       " 'boxes': [<matplotlib.lines.Line2D at 0x7f57111077c0>,\n",
       "  <matplotlib.lines.Line2D at 0x7f57110a3130>,\n",
       "  <matplotlib.lines.Line2D at 0x7f57110ada60>,\n",
       "  <matplotlib.lines.Line2D at 0x7f57110c63d0>,\n",
       "  <matplotlib.lines.Line2D at 0x7f57110d1d00>,\n",
       "  <matplotlib.lines.Line2D at 0x7f571106a670>,\n",
       "  <matplotlib.lines.Line2D at 0x7f5711076fa0>,\n",
       "  <matplotlib.lines.Line2D at 0x7f571108c910>],\n",
       " 'medians': [<matplotlib.lines.Line2D at 0x7f57110979d0>,\n",
       "  <matplotlib.lines.Line2D at 0x7f57110ad340>,\n",
       "  <matplotlib.lines.Line2D at 0x7f57110bbc70>,\n",
       "  <matplotlib.lines.Line2D at 0x7f57110d15e0>,\n",
       "  <matplotlib.lines.Line2D at 0x7f571105cf10>,\n",
       "  <matplotlib.lines.Line2D at 0x7f5711076880>,\n",
       "  <matplotlib.lines.Line2D at 0x7f571108c1f0>,\n",
       "  <matplotlib.lines.Line2D at 0x7f5711018b20>],\n",
       " 'fliers': [<matplotlib.lines.Line2D at 0x7f5711097d60>,\n",
       "  <matplotlib.lines.Line2D at 0x7f57110ad6d0>,\n",
       "  <matplotlib.lines.Line2D at 0x7f57110c6040>,\n",
       "  <matplotlib.lines.Line2D at 0x7f57110d1970>,\n",
       "  <matplotlib.lines.Line2D at 0x7f571106a2e0>,\n",
       "  <matplotlib.lines.Line2D at 0x7f5711076c10>,\n",
       "  <matplotlib.lines.Line2D at 0x7f571108c580>,\n",
       "  <matplotlib.lines.Line2D at 0x7f5711018eb0>],\n",
       " 'means': []}"
      ]
     },
     "execution_count": 18,
     "metadata": {},
     "output_type": "execute_result"
    },
    {
     "data": {
      "image/png": "[encoded data removed]",
      "text/plain": [
       "<Figure size 432x288 with 1 Axes>"
      ]
     },
     "metadata": {
      "needs_background": "light"
     },
     "output_type": "display_data"
    }
   ],
   "source": [
    "#outliers\n",
    "plt.boxplot(dataset)"
   ]
  },
  {
   "cell_type": "code",
   "execution_count": 11,
   "id": "5ebfddab",
   "metadata": {},
   "outputs": [
    {
     "data": {
      "text/html": [
       "<div>\n",
       "<style scoped>\n",
       "    .dataframe tbody tr th:only-of-type {\n",
       "        vertical-align: middle;\n",
       "    }\n",
       "\n",
       "    .dataframe tbody tr th {\n",
       "        vertical-align: top;\n",
       "    }\n",
       "\n",
       "    .dataframe thead th {\n",
       "        text-align: right;\n",
       "    }\n",
       "</style>\n",
       "<table border=\"1\" class=\"dataframe\">\n",
       "  <thead>\n",
       "    <tr style=\"text-align: right;\">\n",
       "      <th></th>\n",
       "      <th>age</th>\n",
       "      <th>sex</th>\n",
       "      <th>bmi</th>\n",
       "      <th>children</th>\n",
       "      <th>smoker</th>\n",
       "      <th>region</th>\n",
       "      <th>charges</th>\n",
       "      <th>insuranceclaim</th>\n",
       "    </tr>\n",
       "  </thead>\n",
       "  <tbody>\n",
       "    <tr>\n",
       "      <th>age</th>\n",
       "      <td>1.000000</td>\n",
       "      <td>-0.020856</td>\n",
       "      <td>0.109272</td>\n",
       "      <td>0.042469</td>\n",
       "      <td>-0.025019</td>\n",
       "      <td>0.002127</td>\n",
       "      <td>0.299008</td>\n",
       "      <td>0.113723</td>\n",
       "    </tr>\n",
       "    <tr>\n",
       "      <th>sex</th>\n",
       "      <td>-0.020856</td>\n",
       "      <td>1.000000</td>\n",
       "      <td>0.046371</td>\n",
       "      <td>0.017163</td>\n",
       "      <td>0.076185</td>\n",
       "      <td>0.004588</td>\n",
       "      <td>0.057292</td>\n",
       "      <td>0.031565</td>\n",
       "    </tr>\n",
       "    <tr>\n",
       "      <th>bmi</th>\n",
       "      <td>0.109272</td>\n",
       "      <td>0.046371</td>\n",
       "      <td>1.000000</td>\n",
       "      <td>0.012759</td>\n",
       "      <td>0.003750</td>\n",
       "      <td>0.157566</td>\n",
       "      <td>0.198341</td>\n",
       "      <td>0.384198</td>\n",
       "    </tr>\n",
       "    <tr>\n",
       "      <th>children</th>\n",
       "      <td>0.042469</td>\n",
       "      <td>0.017163</td>\n",
       "      <td>0.012759</td>\n",
       "      <td>1.000000</td>\n",
       "      <td>0.007673</td>\n",
       "      <td>0.016569</td>\n",
       "      <td>0.067998</td>\n",
       "      <td>-0.409526</td>\n",
       "    </tr>\n",
       "    <tr>\n",
       "      <th>smoker</th>\n",
       "      <td>-0.025019</td>\n",
       "      <td>0.076185</td>\n",
       "      <td>0.003750</td>\n",
       "      <td>0.007673</td>\n",
       "      <td>1.000000</td>\n",
       "      <td>-0.002181</td>\n",
       "      <td>0.787251</td>\n",
       "      <td>0.333261</td>\n",
       "    </tr>\n",
       "    <tr>\n",
       "      <th>region</th>\n",
       "      <td>0.002127</td>\n",
       "      <td>0.004588</td>\n",
       "      <td>0.157566</td>\n",
       "      <td>0.016569</td>\n",
       "      <td>-0.002181</td>\n",
       "      <td>1.000000</td>\n",
       "      <td>-0.006208</td>\n",
       "      <td>0.020891</td>\n",
       "    </tr>\n",
       "    <tr>\n",
       "      <th>charges</th>\n",
       "      <td>0.299008</td>\n",
       "      <td>0.057292</td>\n",
       "      <td>0.198341</td>\n",
       "      <td>0.067998</td>\n",
       "      <td>0.787251</td>\n",
       "      <td>-0.006208</td>\n",
       "      <td>1.000000</td>\n",
       "      <td>0.309418</td>\n",
       "    </tr>\n",
       "    <tr>\n",
       "      <th>insuranceclaim</th>\n",
       "      <td>0.113723</td>\n",
       "      <td>0.031565</td>\n",
       "      <td>0.384198</td>\n",
       "      <td>-0.409526</td>\n",
       "      <td>0.333261</td>\n",
       "      <td>0.020891</td>\n",
       "      <td>0.309418</td>\n",
       "      <td>1.000000</td>\n",
       "    </tr>\n",
       "  </tbody>\n",
       "</table>\n",
       "</div>"
      ],
      "text/plain": [
       "                     age       sex       bmi  children    smoker    region  \\\n",
       "age             1.000000 -0.020856  0.109272  0.042469 -0.025019  0.002127   \n",
       "sex            -0.020856  1.000000  0.046371  0.017163  0.076185  0.004588   \n",
       "bmi             0.109272  0.046371  1.000000  0.012759  0.003750  0.157566   \n",
       "children        0.042469  0.017163  0.012759  1.000000  0.007673  0.016569   \n",
       "smoker         -0.025019  0.076185  0.003750  0.007673  1.000000 -0.002181   \n",
       "region          0.002127  0.004588  0.157566  0.016569 -0.002181  1.000000   \n",
       "charges         0.299008  0.057292  0.198341  0.067998  0.787251 -0.006208   \n",
       "insuranceclaim  0.113723  0.031565  0.384198 -0.409526  0.333261  0.020891   \n",
       "\n",
       "                 charges  insuranceclaim  \n",
       "age             0.299008        0.113723  \n",
       "sex             0.057292        0.031565  \n",
       "bmi             0.198341        0.384198  \n",
       "children        0.067998       -0.409526  \n",
       "smoker          0.787251        0.333261  \n",
       "region         -0.006208        0.020891  \n",
       "charges         1.000000        0.309418  \n",
       "insuranceclaim  0.309418        1.000000  "
      ]
     },
     "execution_count": 11,
     "metadata": {},
     "output_type": "execute_result"
    }
   ],
   "source": [
    "# 1. Find the correlation of every pair of features (and the outcome variable).\n",
    "dataset.corr()"
   ]
  },
  {
   "cell_type": "code",
   "execution_count": 15,
   "id": "29b83340",
   "metadata": {},
   "outputs": [
    {
     "data": {
      "text/plain": [
       "<AxesSubplot:>"
      ]
     },
     "execution_count": 15,
     "metadata": {},
     "output_type": "execute_result"
    },
    {
     "data": {
      "image/png": "[encoded data removed]",
      "text/plain": [
       "<Figure size 432x288 with 2 Axes>"
      ]
     },
     "metadata": {
      "needs_background": "light"
     },
     "output_type": "display_data"
    }
   ],
   "source": [
    "# 2. Visualize the correlations using a heatmap.\n",
    "sns.heatmap(dataset.corr(), linewidth = 0.5, cmap = 'coolwarm')"
   ]
  },
  {
   "cell_type": "code",
   "execution_count": 19,
   "id": "3039abb2",
   "metadata": {},
   "outputs": [
    {
     "data": {
      "text/plain": [
       "array([[1.12526190e-03, 0.00000000e+00, 1.65235826e-03, ...,\n",
       "        1.77672932e-04, 9.99997982e-01, 5.92243105e-05],\n",
       "       [1.04288662e-02, 5.79381457e-04, 1.95657118e-02, ...,\n",
       "        1.15876291e-03, 9.99753005e-01, 5.79381457e-04],\n",
       "       [6.29259576e-03, 2.24735563e-04, 7.41627357e-03, ...,\n",
       "        4.49471125e-04, 9.99952346e-01, 0.00000000e+00],\n",
       "       ...,\n",
       "       [1.10405678e-02, 0.00000000e+00, 2.26024957e-02, ...,\n",
       "        1.22672976e-03, 9.99682626e-01, 6.13364878e-04],\n",
       "       [1.04570071e-02, 0.00000000e+00, 1.28471802e-02, ...,\n",
       "        1.49385816e-03, 9.99861675e-01, 0.00000000e+00],\n",
       "       [2.09323914e-03, 0.00000000e+00, 9.97548553e-04, ...,\n",
       "        3.43153957e-05, 9.99997310e-01, 3.43153957e-05]])"
      ]
     },
     "execution_count": 19,
     "metadata": {},
     "output_type": "execute_result"
    }
   ],
   "source": [
    "# 3. Normalize your inputs.\n",
    "from sklearn.preprocessing import normalize\n",
    "normalize(dataset, norm = 'l2')"
   ]
  },
  {
   "cell_type": "code",
   "execution_count": 29,
   "id": "50c0543b",
   "metadata": {},
   "outputs": [
    {
     "data": {
      "text/plain": [
       "LogisticRegression()"
      ]
     },
     "execution_count": 29,
     "metadata": {},
     "output_type": "execute_result"
    }
   ],
   "source": [
    "#initialize our model\n",
    "model = LogisticRegression()\n",
    "\n",
    "#split the data\n",
    "used_features = ['age', 'sex', 'bmi', 'children', 'smoker', 'region', 'charges']\n",
    "x_train, x_test, y_train, y_test = train_test_split(dataset[used_features], dataset['insuranceclaim'], test_size = 0.2)\n",
    "\n",
    "#train our model\n",
    "model.fit(x_train, y_train)"
   ]
  },
  {
   "cell_type": "code",
   "execution_count": 41,
   "id": "67dc0a01",
   "metadata": {},
   "outputs": [
    {
     "name": "stdout",
     "output_type": "stream",
     "text": [
      "268\n"
     ]
    },
    {
     "data": {
      "text/plain": [
       "array([1, 1, 0, 0, 1, 0, 1, 0, 0, 0, 0, 1, 0, 1, 1, 1, 1, 1, 1, 1, 0, 1,\n",
       "       1, 0, 1, 1, 0, 1, 0, 0, 1, 1, 1, 1, 1, 1, 1, 0, 1, 1, 0, 0, 0, 1,\n",
       "       0, 0, 1, 1, 1, 1, 0, 1, 0, 1, 0, 1, 1, 1, 1, 1, 0, 1, 1, 1, 0, 1,\n",
       "       1, 1, 1, 1, 1, 1, 1, 1, 1, 1, 0, 0, 1, 1, 1, 1, 1, 0, 1, 1, 0, 1,\n",
       "       0, 1, 1, 0, 0, 1, 1, 1, 0, 1, 1, 0, 0, 1, 1, 0, 0, 0, 0, 1, 1, 1,\n",
       "       1, 0, 0, 1, 1, 1, 0, 1, 0, 0, 1, 0, 0, 0, 0, 1, 1, 1, 0, 1, 1, 0,\n",
       "       1, 0, 1, 0, 0, 1, 1, 0, 0, 0, 0, 0, 1, 0, 1, 1, 0, 0, 1, 1, 1, 0,\n",
       "       1, 1, 1, 1, 1, 1, 1, 1, 0, 1, 1, 1, 1, 1, 1, 1, 0, 1, 1, 1, 0, 1,\n",
       "       1, 1, 1, 1, 1, 0, 0, 1, 1, 0, 0, 0, 1, 0, 0, 0, 0, 1, 0, 1, 0, 1,\n",
       "       0, 0, 0, 0, 0, 1, 1, 1, 1, 1, 1, 1, 1, 0, 1, 0, 0, 1, 0, 1, 0, 0,\n",
       "       1, 1, 0, 1, 1, 1, 1, 1, 1, 1, 1, 1, 0, 1, 1, 1, 0, 1, 1, 1, 1, 0,\n",
       "       1, 1, 1, 1, 0, 1, 0, 0, 1, 0, 1, 0, 1, 1, 1, 1, 1, 0, 1, 1, 0, 1,\n",
       "       1, 1, 0, 1])"
      ]
     },
     "execution_count": 41,
     "metadata": {},
     "output_type": "execute_result"
    }
   ],
   "source": [
    "#predict the claims\n",
    "y_pred = model.predict(x_test)\n",
    "print(len(y_pred))\n",
    "y_pred"
   ]
  },
  {
   "cell_type": "code",
   "execution_count": 42,
   "id": "a14fe2a8",
   "metadata": {},
   "outputs": [
    {
     "name": "stdout",
     "output_type": "stream",
     "text": [
      "(268,)\n"
     ]
    },
    {
     "data": {
      "text/plain": [
       "48      0\n",
       "1284    1\n",
       "69      0\n",
       "970     1\n",
       "1301    1\n",
       "Name: insuranceclaim, dtype: int64"
      ]
     },
     "execution_count": 42,
     "metadata": {},
     "output_type": "execute_result"
    }
   ],
   "source": [
    "print(y_test.shape)\n",
    "y_test.head()"
   ]
  },
  {
   "cell_type": "code",
   "execution_count": 46,
   "id": "3098df14",
   "metadata": {},
   "outputs": [
    {
     "name": "stdout",
     "output_type": "stream",
     "text": [
      "0.7835820895522388\n",
      "              precision    recall  f1-score   support\n",
      "\n",
      "           0       0.77      0.68      0.72       110\n",
      "           1       0.79      0.85      0.82       158\n",
      "\n",
      "    accuracy                           0.78       268\n",
      "   macro avg       0.78      0.77      0.77       268\n",
      "weighted avg       0.78      0.78      0.78       268\n",
      "\n",
      "0.7835820895522388\n"
     ]
    }
   ],
   "source": [
    "# 4. Use the test data to find out the accuracy of the model.\n",
    "print(accuracy_score(y_test, y_pred))\n",
    "print(classification_report(y_test, y_pred))\n",
    "print(model.score(x_test, y_test))"
   ]
  },
  {
   "cell_type": "code",
   "execution_count": null,
   "id": "d2e61f57",
   "metadata": {},
   "outputs": [],
   "source": [
    "# 5. Visualize how your model uses the different features and which features have a greater effect.\n",
    "# for visualization check insuranceclaimPrediction\n",
    "#ill update the visualization here later"
   ]
  }
 ],
 "metadata": {
  "kernelspec": {
   "display_name": "Python 3 (ipykernel)",
   "language": "python",
   "name": "python3"
  },
  "language_info": {
   "codemirror_mode": {
    "name": "ipython",
    "version": 3
   },
   "file_extension": ".py",
   "mimetype": "text/x-python",
   "name": "python",
   "nbconvert_exporter": "python",
   "pygments_lexer": "ipython3",
   "version": "3.9.7"
  }
 },
 "nbformat": 4,
 "nbformat_minor": 5
}
