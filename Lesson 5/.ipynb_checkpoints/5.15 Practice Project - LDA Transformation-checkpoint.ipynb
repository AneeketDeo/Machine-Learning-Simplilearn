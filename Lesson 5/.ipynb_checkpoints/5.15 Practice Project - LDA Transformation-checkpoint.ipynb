{
 "cells": [
  {
   "cell_type": "code",
   "execution_count": 1,
   "id": "c6a9443e",
   "metadata": {},
   "outputs": [],
   "source": [
    "# Scikit-learn comes with preloaded datasets. Load the digits dataset from that collection \n",
    "# (http://scikitlearn.org/stable/auto_examples/datasets/plot_digits_last_image.html). Using Scikit-learn,\n",
    "# perform LDA on the dataset. Find out the number of components in the projected subspace. Transform the dataset \n",
    "# and fit a logistic regression and observe the accuracy. Compare it with the previous model based on PCA in terms \n",
    "# of accuracy and model complexity.\n",
    " \n",
    "# Objective: Understand and practice LDA using Scikit-learn."
   ]
  },
  {
   "cell_type": "code",
   "execution_count": 3,
   "id": "bb265bce",
   "metadata": {},
   "outputs": [],
   "source": [
    "# imports\n",
    "import pandas as pd\n",
    "import numpy as np\n",
    "import matplotlib.pyplot as plt\n",
    "\n",
    "from sklearn.model_selection import train_test_split\n",
    "from sklearn.linear_model import LogisticRegression\n",
    "\n",
    "from sklearn.datasets import load_digits\n",
    "dataset = load_digits()"
   ]
  },
  {
   "cell_type": "code",
   "execution_count": 4,
   "id": "ea42186f",
   "metadata": {},
   "outputs": [],
   "source": [
    "# x & y\n",
    "x = dataset.data\n",
    "y = dataset.target"
   ]
  },
  {
   "cell_type": "code",
   "execution_count": null,
   "id": "9a0d3eea",
   "metadata": {},
   "outputs": [],
   "source": [
    "# split the data\n",
    "x_train, x_test, y_train, y_test = train_test_split()"
   ]
  },
  {
   "cell_type": "code",
   "execution_count": null,
   "id": "70f8d10f",
   "metadata": {},
   "outputs": [],
   "source": []
  }
 ],
 "metadata": {
  "kernelspec": {
   "display_name": "Python 3 (ipykernel)",
   "language": "python",
   "name": "python3"
  },
  "language_info": {
   "codemirror_mode": {
    "name": "ipython",
    "version": 3
   },
   "file_extension": ".py",
   "mimetype": "text/x-python",
   "name": "python",
   "nbconvert_exporter": "python",
   "pygments_lexer": "ipython3",
   "version": "3.9.7"
  }
 },
 "nbformat": 4,
 "nbformat_minor": 5
}
